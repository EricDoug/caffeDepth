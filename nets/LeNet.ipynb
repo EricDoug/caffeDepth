{
 "cells": [
  {
   "cell_type": "markdown",
   "metadata": {},
   "source": [
    "# LeNet\n",
    "\n",
    "LeNet是Yann LeCun在1998年设计并提出的，是早期卷积神经网路中最有代表性的实验系统之一，基于此神经网络模型的手写数字识别系统LeNet-5在20世纪90年代被广泛用于银行手写数字的识别系统。本文首先，以该模型为基础，对mnist数据集进行测试;然后，将模型用于车牌识别。"
   ]
  },
  {
   "cell_type": "markdown",
   "metadata": {},
   "source": [
    "## 1 mnist样本字库的图片转换\n",
    "\n",
    "有时为了方便研究和分析样本训练数据或测试样本数据，需要将测试样本库文件转换成图片，下面使用Pyhon脚本完成测试样本库格式转换成bmp格式图片。"
   ]
  },
  {
   "cell_type": "code",
   "execution_count": 1,
   "metadata": {
    "collapsed": true
   },
   "outputs": [],
   "source": [
    "# load library\n",
    "import numpy as np\n",
    "import struct\n",
    "import matplotlib.pyplot as plt\n",
    "import Image\n",
    "import os"
   ]
  },
  {
   "cell_type": "code",
   "execution_count": 2,
   "metadata": {
    "collapsed": false
   },
   "outputs": [],
   "source": [
    "data_root=\"/home/ericdoug/mydev/caffe/data/mnist/\"\n",
    "filename = \"t10k-images-idx3-ubyte\"  # 压缩格式的测试样本库\n",
    "raw_file = os.path.join(data_root, filename)"
   ]
  },
  {
   "cell_type": "code",
   "execution_count": 3,
   "metadata": {
    "collapsed": true
   },
   "outputs": [],
   "source": [
    "binfile = open(raw_file, 'rb')\n",
    "buf = binfile.read()"
   ]
  },
  {
   "cell_type": "code",
   "execution_count": 4,
   "metadata": {
    "collapsed": false
   },
   "outputs": [],
   "source": [
    "index = 0\n",
    "magic, numImages, numRows, numColumns = struct.unpack_from('>IIII', buf, index) \n",
    "index += struct.calcsize('>IIII')"
   ]
  },
  {
   "cell_type": "code",
   "execution_count": 5,
   "metadata": {
    "collapsed": false
   },
   "outputs": [
    {
     "name": "stdout",
     "output_type": "stream",
     "text": [
      "16 10000 28 28\n"
     ]
    }
   ],
   "source": [
    "print index, numImages, numRows, numColumns"
   ]
  },
  {
   "cell_type": "code",
   "execution_count": 6,
   "metadata": {
    "collapsed": false
   },
   "outputs": [],
   "source": [
    "for image in range(0, numImages-1):\n",
    "    im = struct.unpack_from('>784B', buf, index)\n",
    "    index += struct.calcsize('>784B')\n",
    "    \n",
    "    im = np.array(im,dtype='uint8')\n",
    "    im = im.reshape(28,28)\n",
    "    \n",
    "    im = Image.fromarray(im)\n",
    "    \n",
    "    im.save('../datas/mnist_test/train_%s.bmp'%image, 'bmp')"
   ]
  },
  {
   "cell_type": "markdown",
   "metadata": {
    "collapsed": true
   },
   "source": [
    "## 2. mnist手写测试\n",
    "\n",
    "本节我们用手写的数字输入到网络进行分类识别、手写数字的图片必须满足以下条件：\n",
    "\n",
    ">1.必须是256位黑白色\n",
    "\n",
    ">2.必须是黑底白字\n",
    "\n",
    ">3.像素大小必须是$28 \\times 28$\n",
    "\n",
    ">4.数字在图片中间，上下左右没有过多的空白。"
   ]
  },
  {
   "cell_type": "code",
   "execution_count": 8,
   "metadata": {
    "collapsed": true
   },
   "outputs": [],
   "source": [
    "# load library\n",
    "import os\n",
    "import sys\n",
    "import numpy as np\n",
    "import matplotlib.pyplot as plt\n",
    "import caffe"
   ]
  },
  {
   "cell_type": "code",
   "execution_count": 9,
   "metadata": {
    "collapsed": true
   },
   "outputs": [],
   "source": [
    "model_file = '/home/ericdoug/mydev/caffe/examples/mnist/lenet.prototxt'\n",
    "pretrained_caffemodel = '/home/ericdoug/mydev/caffe/examples/mnist/lenet_iter_10000.caffemodel'\n",
    "image_file = '../datas/mnist_test/train_0.bmp'"
   ]
  },
  {
   "cell_type": "code",
   "execution_count": null,
   "metadata": {
    "collapsed": true
   },
   "outputs": [],
   "source": [
    "input_image = caffe.io.load_image(image_file, color=False)\n",
    "net = caffe.Classifier(model_file, pretrained_caffemodel)\n",
    "prediction = net.predict([input_image], oversample = False)\n",
    "caffe.set_mode_gpu()\n",
    "print "
   ]
  }
 ],
 "metadata": {
  "kernelspec": {
   "display_name": "Python 2",
   "language": "python",
   "name": "python2"
  },
  "language_info": {
   "codemirror_mode": {
    "name": "ipython",
    "version": 2
   },
   "file_extension": ".py",
   "mimetype": "text/x-python",
   "name": "python",
   "nbconvert_exporter": "python",
   "pygments_lexer": "ipython2",
   "version": "2.7.12"
  }
 },
 "nbformat": 4,
 "nbformat_minor": 0
}
